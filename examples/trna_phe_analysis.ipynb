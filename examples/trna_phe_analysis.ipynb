{
 "cells": [
  {
   "cell_type": "code",
   "execution_count": 1,
   "id": "fourth-fleece",
   "metadata": {},
   "outputs": [],
   "source": [
    "import pandas as pd\n",
    "import matplotlib\n",
    "import plotly.express as px\n",
    "import matplotlib.pyplot as plt"
   ]
  },
  {
   "cell_type": "code",
   "execution_count": 211,
   "id": "wired-referral",
   "metadata": {},
   "outputs": [],
   "source": [
    "%run ../modules/utils.ipynb\n",
    "%run ../modules/ladder_separation.ipynb\n",
    "%run ../modules/homology_search.ipynb\n",
    "%run ../modules/mass_sum.ipynb\n",
    "%run ../modules/gap_fill.ipynb\n",
    "%run ../modules/ladder_complementation.ipynb"
   ]
  },
  {
   "cell_type": "markdown",
   "id": "wicked-apollo",
   "metadata": {},
   "source": [
    "## Load Control Sample\n",
    "<br>\n",
    "We have two types of samples, control sample and degraded sample. We find isoforms from control sample, and get ladder fragments from degraded sample."
   ]
  },
  {
   "cell_type": "code",
   "execution_count": 1,
   "id": "incorporate-steal",
   "metadata": {},
   "outputs": [],
   "source": [
    "# replace ctrl_sample to switch to other control samples.\n",
    "ctrl_sample = '../samples/Phe/tRNA_Phe_Control.xlsx'\n",
    "\n",
    "df_ctrl = load_data(ctrl_sample)\n",
    "plotly_zone(df_ctrl)"
   ]
  },
  {
   "cell_type": "markdown",
   "id": "major-corporation",
   "metadata": {},
   "source": [
    "## Homology Search\n",
    "<br>\n",
    "This method tries to find out data points in ~24k Mass area that have A/C/Ox/Me connections, where as A stands for nucleotide A, C stands for nucleotide C and Ox stands for Oxygen.\n",
    "If more connections are desired, go to base_dict in base_calling_random() in modules/homology_search.ipynb to add more.\n",
    "<br>\n",
    "Homology Search will result in several data points, we call them isoforms. In the later processes, we will try to get ladders for each isoform. And at the end, we align those ladders horizontally and do ladder complementation."
   ]
  },
  {
   "cell_type": "code",
   "execution_count": 2,
   "id": "earned-cleaner",
   "metadata": {},
   "outputs": [],
   "source": [
    "bcr = homology_search(df_ctrl)\n",
    "plotly_basecalling(*bcr, y='Vol')"
   ]
  },
  {
   "cell_type": "code",
   "execution_count": 3,
   "id": "nervous-coast",
   "metadata": {},
   "outputs": [],
   "source": [
    "\"\"\"We use the top data points(isoforms) in our MLC-Seq paper.\n",
    "\n",
    "Here, we use iloc[:10] to print the top 10 compounds obtained \n",
    "from the list sorted in descending order of intensity. \n",
    "Change 10 to whatever number you want to print more or less compounds.\n",
    "\"\"\"\n",
    "df_homology = bcr[0]\n",
    "df_homology.sort_values('Vol', ascending=False).iloc[:10]"
   ]
  },
  {
   "cell_type": "markdown",
   "id": "political-mustang",
   "metadata": {},
   "source": [
    "## Load Degraded Sample"
   ]
  },
  {
   "cell_type": "code",
   "execution_count": 4,
   "id": "hawaiian-wagner",
   "metadata": {},
   "outputs": [],
   "source": [
    "df = load_data('../samples/Phe/tRNA_Phe_Deg_1.xlsx') # sample 1\n",
    "df2 = load_data('../samples/Phe/tRNA_Phe_Deg_2.xlsx') # sample 2\n",
    "plotly_zone(df)"
   ]
  },
  {
   "cell_type": "markdown",
   "id": "endless-swift",
   "metadata": {},
   "source": [
    "## Homology Search on Degraded Sample\n",
    "<br>\n",
    "By comparing the Homology Search results before and after acid-degradation, the acid-labile nucleotide, if there is any, can be identified.\n",
    "Here in this sample tRNA-Phe, we do observe an acid-labile Y changed to Y´after acid treatment. \n",
    "<br>\n",
    "<br>\n",
    "Because all the rest processes are based on degraded sample, so, in this case, we will use data points found from degraded sample as our target isoforms in the later processes."
   ]
  },
  {
   "cell_type": "code",
   "execution_count": 5,
   "id": "growing-episode",
   "metadata": {},
   "outputs": [],
   "source": [
    "\"\"\"iloc[:10] takes the first 10 compounds from the list sorted in the descending order of \n",
    "intensity. Replace 10 with other numbers if more or less compounds are desired.\n",
    "\"\"\"\n",
    "df_deg_top = df[df.Mass>23000].sort_values('Vol', ascending=False).iloc[:10]\n",
    "homo_deg = homology_search(df_deg_top)\n",
    "plotly_basecalling(*homo_deg, y='Vol')\n",
    "df_homo_deg = homo_deg[0]\n",
    "df_homo_deg"
   ]
  },
  {
   "cell_type": "code",
   "execution_count": 125,
   "id": "contained-relationship",
   "metadata": {},
   "outputs": [],
   "source": [
    "# Here are the isoforms we used in our MLC-Seq paper\n",
    "isoform1 = 24252.311092\n",
    "isoform2 = 24581.380920\n",
    "isoform3 = 24268.303777\n",
    "isoform4 = 24597.353308\n",
    "isoform5 = isoform1 - C  # exist in sample 2\n",
    "\n",
    "isoforms = [isoform1, isoform2, isoform3, isoform4, isoform5] "
   ]
  },
  {
   "cell_type": "code",
   "execution_count": null,
   "id": "embedded-phoenix",
   "metadata": {},
   "outputs": [],
   "source": []
  },
  {
   "cell_type": "markdown",
   "id": "liked-charleston",
   "metadata": {},
   "source": [
    "## Manually Ladder Separation\n",
    "<br>\n",
    "This step is to roughly separate the original data into two portions, one contains 5´ data and the other contains 3´. \n",
    "\n",
    "**ATTENTION**\n",
    "<br>\n",
    "This section contains three code cells. We label them 1, 2, and 3 according to the order in which they appear. cell 1&2 together are doing exactly the same thing as cell 3. The difference is that by running 1&2, you choose the data manually from the 2D plot by yourself; by running cell 3, you get the same data as we chose by loading it from datasets. \n",
    "So, you have two options here, just choose one of them:\n",
    "1. Running cells 1&2, experience what exactly the code is doing. Or\n",
    "2. Running cell 3, in case you don't want to get your hand dirty."
   ]
  },
  {
   "cell_type": "code",
   "execution_count": 6,
   "id": "authentic-boating",
   "metadata": {},
   "outputs": [],
   "source": [
    "\"\"\"Please use the lasso tool to circle out the approximately 5´/3´ data.\n",
    "It's ok to just select a rough area, and it's impossible to choose the exact 5´/3´ data, \n",
    "because we are only circling the data points from a 2D plot. It's also unnecessary because our \n",
    "target of this step is simply to decrease the complexity of the following processes, but \n",
    "not pin down the accurate 5´/3´ ladder fragments.\n",
    "\"\"\"\n",
    "idxs = list()\n",
    "\n",
    "# create our callback function\n",
    "def on_selection(trace, points, selector):\n",
    "    print('points {}'.format(points.point_inds) )\n",
    "    idxs.extend(points.point_inds)\n",
    "\n",
    "def on_click(trace, points, selector):\n",
    "    idxs.extend(points.point_inds)\n",
    "\n",
    "df_sample = df\n",
    "f = zone_selection(df_sample, on_selection=on_selection, on_click=on_click)\n",
    "\n",
    "# this line shows the widget, it's a 2D widget that contains a toolbar \n",
    "# and enable users to ramdomly choose data points inside.\n",
    "f"
   ]
  },
  {
   "cell_type": "code",
   "execution_count": 11,
   "id": "industrial-piece",
   "metadata": {},
   "outputs": [],
   "source": [
    "df_chosen = df_sample.iloc[idxs]\n",
    "\n",
    "\"\"\"Uncomment one of the following lines, depending on which data(3´ or 5´) \n",
    "you selected from previous cell. This step will save data into two separate pandas DataFrames. \n",
    "Both DataFrames will be used in the following cells. \n",
    "You have to re-run the previous cell in this section when switching between 5´and 3´data.\n",
    "\"\"\"\n",
    "# df_5p = df_chosen.copy()\n",
    "# df_3p = df_chosen.copy()"
   ]
  },
  {
   "cell_type": "code",
   "execution_count": 7,
   "id": "forward-georgia",
   "metadata": {},
   "outputs": [],
   "source": [
    "\"\"\"To easily demonstrate the concept, here we just load the data we selected in advance.\n",
    "Again, you may find that there exists  overlapped area, it doesn't matter.\n",
    "\"\"\"\n",
    "df_5p = load_data('./data/phe5p.xlsx')\n",
    "df_3p = load_data('./data/phe3p.xlsx')\n",
    "\n",
    "df_common = match_dfs(df_5p, df_3p)\n",
    "plotly_multi_zones([df_5p, df_3p, df_common], names=[\"5´ Zone\", \"3´ Zone\", \"Overlapped Area\"], title=\"plot both areas together\")"
   ]
  },
  {
   "cell_type": "markdown",
   "id": "governing-individual",
   "metadata": {},
   "source": [
    "## Sampling the Data and Using the Top 1000"
   ]
  },
  {
   "cell_type": "code",
   "execution_count": 8,
   "id": "hydraulic-mitchell",
   "metadata": {},
   "outputs": [],
   "source": [
    "\"\"\"We take the first 1000 data points on the list sorted in descending order of intensity. \n",
    "Change sampling_num to other values to choose more or less data points. Adjustments may need \n",
    "to be made here to obtain optimized results.\n",
    "\"\"\"\n",
    "sampling_num = 1000\n",
    "\n",
    "df_5p_top = df_5p.sort_values('Vol', ascending=False).iloc[:sampling_num]\n",
    "df_3p_top = df_3p.sort_values('Vol', ascending=False).iloc[:sampling_num]\n",
    "\n",
    "plotly_zones(df_5p_top, df_3p_top)"
   ]
  },
  {
   "cell_type": "markdown",
   "id": "checked-visibility",
   "metadata": {},
   "source": [
    "## MassSum\n",
    "<br>\n",
    "This method finds out data points in pairs. Any mass pairs meeting the MassSum equation for a given intact mass will be selected.\n",
    "<br>\n",
    "<br>\n",
    "If there exist two data points in pair from 5´/3´ ladders separately for a specific isoform, they are guaranteed to be selected. But if there are two noise data points with their Mass sum that happens to equal to the isoform's, these two will also be selected into our pool. So, occasionally, manual work might be involved to filter the result of MassSum.\n",
    "\n"
   ]
  },
  {
   "cell_type": "code",
   "execution_count": 131,
   "id": "unlikely-cable",
   "metadata": {},
   "outputs": [],
   "source": [
    "# Five isoforms\n",
    "df_masssum_3ps, df_masssum_5ps = list(), list()\n",
    "for fullmass in isoforms:\n",
    "    df_ms_3p, df_ms_5p = mass_sum(df_3p_top, df_5p_top, full_mass=fullmass)\n",
    "    df_masssum_3ps.append(df_ms_3p)\n",
    "    df_masssum_5ps.append(df_ms_5p)"
   ]
  },
  {
   "cell_type": "markdown",
   "id": "living-spyware",
   "metadata": {},
   "source": [
    "### Processing the 1<sup>st</sup> Isoform"
   ]
  },
  {
   "cell_type": "code",
   "execution_count": 9,
   "id": "adverse-reality",
   "metadata": {},
   "outputs": [],
   "source": [
    "# isoform 1, 5´ ladder\n",
    "isoform_idx = 0\n",
    "df_masssum_1st_5p = df_masssum_5ps[isoform_idx].copy()\n",
    "plotly_zone(df_masssum_1st_5p)"
   ]
  },
  {
   "cell_type": "code",
   "execution_count": 10,
   "id": "gross-highway",
   "metadata": {},
   "outputs": [],
   "source": [
    "\"\"\"After manually examine each mass in the ladder, we found the following compounds \n",
    "can not fit in the ladder: [22032.08, 21726.04, 2238.242], because these masses cannot \n",
    "generate basecallings with their neighbors. Their indices are [3597, 3593, 567], we \n",
    "remove these outliers from our ladder.\n",
    "\"\"\"\n",
    "idxs = [3597, 3593, 567]\n",
    "df_notfit = df_masssum_1st_5p.loc[idxs].sort_values('Mass')\n",
    "df_masssum_1st_5p = df_masssum_1st_5p.drop(df_notfit.index)\n",
    "plotly_zones(df_masssum_1st_5p, df_notfit, \n",
    "             title='5´ Ladder of the 1st Isoform', \n",
    "             names=['5´ data', 'To Be Removed'])\n",
    "df_notfit"
   ]
  },
  {
   "cell_type": "code",
   "execution_count": 11,
   "id": "physical-johns",
   "metadata": {},
   "outputs": [],
   "source": [
    "# isoform 1, 3´ ladder\n",
    "df_masssum_1st_3p = df_masssum_3ps[isoform_idx].copy()\n",
    "plotly_zone(df_masssum_1st_3p)"
   ]
  },
  {
   "cell_type": "code",
   "execution_count": 12,
   "id": "satisfactory-square",
   "metadata": {},
   "outputs": [],
   "source": [
    "\"\"\"After manually examine each mass in the ladder, we found the following compounds \n",
    "can not fit in the ladder: [2238.242, 2544.278, 22032.077], because these masses cannot \n",
    "generate basecallings with their neighbors. Their indices are [431, 566, 2129], we \n",
    "remove these outliers from our ladder.\n",
    "\"\"\"\n",
    "idxs = [431, 566, 2129]\n",
    "df_notfit = df_masssum_1st_3p.loc[idxs].sort_values('Mass')\n",
    "df_masssum_1st_3p = df_masssum_1st_3p.drop(df_notfit.index)\n",
    "plotly_zones(df_masssum_1st_3p, df_notfit, \n",
    "             title='3´ Ladder of the 1st Isoform', \n",
    "             names=['3´ data', 'To Be Removed'])\n",
    "df_notfit"
   ]
  },
  {
   "cell_type": "markdown",
   "id": "inner-america",
   "metadata": {},
   "source": [
    "### Processing the 2<sup>nd</sup> Isoform"
   ]
  },
  {
   "cell_type": "code",
   "execution_count": 13,
   "id": "emotional-manor",
   "metadata": {},
   "outputs": [],
   "source": [
    "# isoform 2, 5´ ladder\n",
    "isoform_idx = 1\n",
    "df_masssum_2nd_5p = df_masssum_5ps[isoform_idx].copy()\n",
    "plotly_zone(df_masssum_2nd_5p, title='5´ Ladder of the 2nd Isoform (MassSum Result)')"
   ]
  },
  {
   "cell_type": "code",
   "execution_count": 14,
   "id": "dirty-indicator",
   "metadata": {},
   "outputs": [],
   "source": [
    "\"\"\"After manually examine each mass in the ladder, we found the following compounds \n",
    "can not fit in the ladder: [1931.226, 2567.311, 5457.693, 5600.784, 19141.657, 20449.842, \n",
    "21585.084], because these masses cannot generate basecallings with their neighbors. Their \n",
    "indices are [374, 810, 2009, 2057, 3525, 3566, 3592], we remove these outliers from our ladder.\n",
    "\"\"\"\n",
    "idxs = [374, 810, 2009, 2057, 3525, 3566, 3592]\n",
    "df_notfit = df_masssum_2nd_5p.loc[idxs].sort_values('Mass')\n",
    "df_masssum_2nd_5p = df_masssum_2nd_5p.drop(df_notfit.index)\n",
    "plotly_zones(df_masssum_2nd_5p, df_notfit, \n",
    "             title='5´ Ladder of the 2nd Isoform (MassSum Result with Manual Filter)', \n",
    "             names=['5´ data', 'To Be Removed'])\n",
    "df_notfit"
   ]
  },
  {
   "cell_type": "code",
   "execution_count": 15,
   "id": "brown-mexico",
   "metadata": {},
   "outputs": [],
   "source": [
    "# isoform 2, 3´ ladder\n",
    "df_masssum_2nd_3p = df_masssum_3ps[isoform_idx].copy()\n",
    "plotly_zone(df_masssum_2nd_3p, title='2nd Isoform, 3´ Ladder (MassSum Result)')"
   ]
  },
  {
   "cell_type": "code",
   "execution_count": 16,
   "id": "exciting-crisis",
   "metadata": {},
   "outputs": [],
   "source": [
    "\"\"\"After manually examine each mass in the ladder, we found the following compounds \n",
    "can not fit in the ladder: [3014.435, 4149.555, 5457.693, 18998.662, 19141.657, 22032.077, \n",
    "22668.148], because these masses cannot generate basecallings with their neighbors. Their \n",
    "indices are [719, 1047, 1301, 2054, 2057, 2129, 2140], we remove these outliers from our ladder.\n",
    "\"\"\"\n",
    "idxs = [719, 1047, 1301, 2054, 2057, 2129, 2140]\n",
    "df_notfit = df_masssum_2nd_3p.loc[idxs].sort_values('Mass')\n",
    "df_masssum_2nd_3p = df_masssum_2nd_3p.drop(df_notfit.index)\n",
    "plotly_zones(df_masssum_2nd_3p, df_notfit, \n",
    "             title='2nd Isoform, 3´ Ladder (MassSum Result with Manual Filter)', \n",
    "             names=['3´ data', 'To Be Removed'])\n",
    "df_notfit"
   ]
  },
  {
   "cell_type": "markdown",
   "id": "chemical-night",
   "metadata": {},
   "source": [
    "### Processing the 3<sup>rd</sup> Isoform"
   ]
  },
  {
   "cell_type": "code",
   "execution_count": 17,
   "id": "silent-source",
   "metadata": {},
   "outputs": [],
   "source": [
    "# isoform 3, 5´ ladder\n",
    "isoform_idx = 2\n",
    "df_masssum_3rd_5p = df_masssum_5ps[isoform_idx].copy()\n",
    "plotly_zone(df_masssum_3rd_5p, title='5´ Ladder of the 3rd Isoform (MassSum Result)')"
   ]
  },
  {
   "cell_type": "code",
   "execution_count": 18,
   "id": "charged-assessment",
   "metadata": {},
   "outputs": [],
   "source": [
    "\"\"\"Manually examine each mass in the ladder, we found the following compounds \n",
    "are far away from the major part: [11567.583, 19141.657, 23722.166], Their indices \n",
    "are [3160, 3525, 3613], we remove these outliers from our ladder.\n",
    "\"\"\"\n",
    "idxs = [3160, 3525, 3613]\n",
    "df_notfit = df_masssum_3rd_5p.loc[idxs].sort_values('Mass')\n",
    "df_masssum_3rd_5p = df_masssum_3rd_5p.drop(df_notfit.index)\n",
    "plotly_zones(df_masssum_3rd_5p, df_notfit, \n",
    "             title='5´ Ladder of the 3rd Isoform (MassSum Result with Manual Filter)', \n",
    "             names=['5´ data', 'To Be Removed'])\n",
    "df_notfit"
   ]
  },
  {
   "cell_type": "code",
   "execution_count": 19,
   "id": "hollywood-default",
   "metadata": {},
   "outputs": [],
   "source": [
    "# isoform 2, 3´ ladder\n",
    "df_masssum_3rd_3p = df_masssum_3ps[isoform_idx].copy()\n",
    "plotly_zone(df_masssum_3rd_3p, title='3rd Isoform, 3´ Ladder (MassSum Result)')"
   ]
  },
  {
   "cell_type": "code",
   "execution_count": 20,
   "id": "ethical-formation",
   "metadata": {},
   "outputs": [],
   "source": [
    "\"\"\"Manually examine each mass in the ladder, we found the following compounds \n",
    "are far away from the major part: [563.993, 3118.378], and [5144.672] cannot generate \n",
    "basecallings with their neighbors. Their indices are [4, 742, 1245], we remove these \n",
    "outliers from our ladder.\n",
    "\"\"\"\n",
    "idxs = [4, 742, 1245]\n",
    "df_notfit = df_masssum_3rd_3p.loc[idxs].sort_values('Mass')\n",
    "df_masssum_3rd_3p = df_masssum_3rd_3p.drop(df_notfit.index)\n",
    "plotly_zones(df_masssum_3rd_3p, df_notfit, \n",
    "             title='3´ Ladder of the 3rd Isoform (MassSum Result with Manual Filter)', \n",
    "             names=['3´ data', 'To Be Removed'])\n",
    "df_notfit"
   ]
  },
  {
   "cell_type": "markdown",
   "id": "blocked-jurisdiction",
   "metadata": {},
   "source": [
    "### Processing the 4<sup>th</sup> Isoform"
   ]
  },
  {
   "cell_type": "code",
   "execution_count": 21,
   "id": "hollywood-conference",
   "metadata": {},
   "outputs": [],
   "source": [
    "# isoform 4, 5´ ladder\n",
    "isoform_idx = 3\n",
    "df_masssum_4th_5p = df_masssum_5ps[isoform_idx].copy()\n",
    "plotly_zone(df_masssum_4th_5p, title='5´ Ladder of the 4th Isoform (MassSum Result)')"
   ]
  },
  {
   "cell_type": "code",
   "execution_count": 22,
   "id": "partial-situation",
   "metadata": {},
   "outputs": [],
   "source": [
    "\"\"\"Manually examine each mass in the ladder, we are not sure about the mass less than\n",
    "6269.791, and [20309.82, 21726.04, 22032.08] cannot generate basecallings with their \n",
    "neighbors.Their indices are [3562, 3593, 3597], we remove these masses from our ladder.\n",
    "\"\"\"\n",
    "idxs = [3562, 3593, 3597]\n",
    "df_notfit1 = df_masssum_4th_5p[df_masssum_4th_5p.Mass<6269.79]\n",
    "df_notfit2 = df_masssum_4th_5p.loc[idxs]\n",
    "df_notfit = pd.concat([df_notfit1, df_notfit2])\n",
    "df_masssum_4th_5p = df_masssum_4th_5p.drop(df_notfit.index)\n",
    "plotly_zones(df_masssum_4th_5p, df_notfit, \n",
    "             title='5´ Ladder of the 4th Isoform (MassSum Result with Manual Filter)', \n",
    "             names=['5´ data', 'To Be Removed'])\n",
    "df_notfit"
   ]
  },
  {
   "cell_type": "code",
   "execution_count": 23,
   "id": "successful-celtic",
   "metadata": {},
   "outputs": [],
   "source": [
    "# isoform 2, 3´ ladder\n",
    "df_masssum_4th_3p = df_masssum_3ps[isoform_idx].copy()\n",
    "plotly_zone(df_masssum_4th_3p, title='4th Isoform, 3´ Ladder (MassSum Result)')"
   ]
  },
  {
   "cell_type": "code",
   "execution_count": 24,
   "id": "published-synthetic",
   "metadata": {},
   "outputs": [],
   "source": [
    "\"\"\"Manually examine each mass in the ladder, we are not sure about the mass greater than\n",
    "18345.59, and [2583.294, 2889.322, 4305.625] cannot generate basecallings with their \n",
    "neighbors. Their indices are [3562, 3593, 3597], we remove these masses from our ladder.\n",
    "\"\"\"\n",
    "idxs = [587, 687, 1080]\n",
    "df_notfit1 = df_masssum_4th_3p[df_masssum_4th_3p.Mass>18345.59]\n",
    "df_notfit2 = df_masssum_4th_3p.loc[idxs]\n",
    "df_notfit = pd.concat([df_notfit1, df_notfit2])\n",
    "df_masssum_4th_3p = df_masssum_4th_3p.drop(df_notfit.index)\n",
    "plotly_zones(df_masssum_4th_3p, df_notfit, \n",
    "             title='3´ Ladder of the 4th Isoform (MassSum Result with Manual Filter)', \n",
    "             names=['3´ data', 'To Be Removed'])\n",
    "df_notfit"
   ]
  },
  {
   "cell_type": "code",
   "execution_count": 202,
   "id": "impressed-radical",
   "metadata": {},
   "outputs": [],
   "source": [
    "# put the refined results into two separated new list. \n",
    "df_masssum_5ps_refined = [df_masssum_1st_5p, \n",
    "                          df_masssum_2nd_5p, \n",
    "                          df_masssum_3rd_5p, \n",
    "                          df_masssum_4th_5p]\n",
    "\n",
    "df_masssum_3ps_refined = [df_masssum_1st_3p, \n",
    "                          df_masssum_2nd_3p, \n",
    "                          df_masssum_3rd_3p, \n",
    "                          df_masssum_4th_3p]"
   ]
  },
  {
   "cell_type": "code",
   "execution_count": null,
   "id": "sharing-printing",
   "metadata": {},
   "outputs": [],
   "source": []
  },
  {
   "cell_type": "markdown",
   "id": "informal-process",
   "metadata": {},
   "source": [
    "## GapFill\n",
    "<br>\n",
    "This method finds the missing data points for MassSum. Basically it looks data points inside the gap, if there's one in the result of MassSum, from original dataset. Just like MassSum, sometimes GapFill also need manual work involved to check the result data points."
   ]
  },
  {
   "cell_type": "markdown",
   "id": "corrected-morgan",
   "metadata": {},
   "source": [
    "### Processing the 1<sup>st</sup> Isoform"
   ]
  },
  {
   "cell_type": "code",
   "execution_count": 25,
   "id": "painted-poster",
   "metadata": {},
   "outputs": [],
   "source": [
    "# GapFill for 1st isoform, 5´ ladder\n",
    "idx = 0\n",
    "\n",
    "fullmass_dot = df_5p[(df_5p.Mass>isoforms[idx]-0.1) & (df_5p.Mass<isoforms[idx]+0.1)]\n",
    "df_ms_5p = df_masssum_5ps_refined[idx]\n",
    "df_gap_1st_5p = gap_fill(df_5p, df_ms_5p, fullmass_dot, major=True, orientation=5)"
   ]
  },
  {
   "cell_type": "code",
   "execution_count": 26,
   "id": "accomplished-arthritis",
   "metadata": {},
   "outputs": [],
   "source": [
    "plotly_zones(df_masssum_1st_5p, df_gap_1st_5p)\n",
    "df_ms_gf_1st_5p = pd.concat([df_masssum_1st_5p, df_gap_1st_5p])"
   ]
  },
  {
   "cell_type": "code",
   "execution_count": 27,
   "id": "wrong-salvation",
   "metadata": {},
   "outputs": [],
   "source": [
    "\"\"\"Manually examine each mass in the ladder, we found the outliers: [2685.364, 3678.533], \n",
    "and [1065.1*, 8296.076] cannot generate basecallings with their neighbors. Their indices \n",
    "are [62, 63, 916, 1463, 2725], we remove these compounds from our ladder.\n",
    "\"\"\"\n",
    "idxs = [62, 63, 916, 1463, 2725]\n",
    "df_notfit = df_ms_gf_1st_5p.loc[idxs].sort_values('Mass')\n",
    "df_ms_gf_1st_5p = df_ms_gf_1st_5p.drop(df_notfit.index)\n",
    "plotly_zones(df_ms_gf_1st_5p, df_notfit, \n",
    "             title='5´ Ladder of the 1st Isoform (MassSum & GapFill Result with Manual Filter)', \n",
    "             names=['5´ data', 'To Be Removed'])\n",
    "df_notfit"
   ]
  },
  {
   "cell_type": "code",
   "execution_count": 28,
   "id": "outstanding-nothing",
   "metadata": {},
   "outputs": [],
   "source": [
    "# GapFill for 1st isoform, 3´ ladder\n",
    "fullmass_dot = df_3p[(df_3p.Mass>isoforms[idx]-0.1) & (df_3p.Mass<isoforms[idx]+0.1)]\n",
    "df_ms_3p = df_masssum_3ps_refined[idx]\n",
    "df_gap_1st_3p = gap_fill(df_3p, df_ms_3p, fullmass_dot, major=True, orientation=3)"
   ]
  },
  {
   "cell_type": "code",
   "execution_count": 29,
   "id": "parallel-breed",
   "metadata": {},
   "outputs": [],
   "source": [
    "plotly_zones(df_masssum_1st_3p, df_gap_1st_3p)\n",
    "df_ms_gf_1st_3p = pd.concat([df_masssum_1st_3p, df_gap_1st_3p])"
   ]
  },
  {
   "cell_type": "code",
   "execution_count": 30,
   "id": "loved-greenhouse",
   "metadata": {},
   "outputs": [],
   "source": [
    "\"\"\"Manually examine each mass in the ladder, we found the masses [862.233, 876.273, 8262.144, \n",
    "11855.662, 13719.925, 22526.179] cannot generate basecallings with their neighbors. Their \n",
    "indices are [76, 80, 1571, 1787, 1844, 2138], we remove these compounds from our ladder.\n",
    "\"\"\"\n",
    "idxs = [76, 80, 1571, 1787, 1844, 2138]\n",
    "df_notfit = df_ms_gf_1st_3p.loc[idxs].sort_values('Mass')\n",
    "df_ms_gf_1st_3p = df_ms_gf_1st_3p.drop(df_notfit.index)\n",
    "plotly_zones(df_ms_gf_1st_3p, df_notfit, \n",
    "             title='3´ Ladder of the 1st Isoform (MassSum & GapFill Result with Manual Filter)', \n",
    "             names=['3´ data', 'To Be Removed'])\n",
    "df_notfit"
   ]
  },
  {
   "cell_type": "markdown",
   "id": "educated-protocol",
   "metadata": {},
   "source": [
    "### Processing the 2<sup>nd</sup> Isoform"
   ]
  },
  {
   "cell_type": "code",
   "execution_count": 31,
   "id": "approximate-cylinder",
   "metadata": {},
   "outputs": [],
   "source": [
    "# GapFill for 1st isoform, 5´ ladder\n",
    "idx = 1\n",
    "\n",
    "fullmass_dot = df_5p[(df_5p.Mass>isoforms[idx]-0.1) & (df_5p.Mass<isoforms[idx]+0.1)]\n",
    "df_ms_5p = df_masssum_5ps_refined[idx]\n",
    "df_gap_2nd_5p = gap_fill(df_5p, df_ms_5p, fullmass_dot, major=True, orientation=5)"
   ]
  },
  {
   "cell_type": "code",
   "execution_count": 32,
   "id": "korean-glenn",
   "metadata": {},
   "outputs": [],
   "source": [
    "plotly_zones(df_masssum_2nd_5p, df_gap_2nd_5p)\n",
    "df_ms_gf_2nd_5p = pd.concat([df_masssum_2nd_5p, df_gap_2nd_5p])"
   ]
  },
  {
   "cell_type": "code",
   "execution_count": 33,
   "id": "described-election",
   "metadata": {},
   "outputs": [],
   "source": [
    "\"\"\"Manually examine each mass in the ladder, we found the outliers: [2377.226, 3373.339, \n",
    "3732.437], and [1065.122, 1065.156, 3359.326, 3387.422, 3944.507, 24353.33] cannot generate \n",
    "basecallings with their neighbors. Their indices are [62, 63, 695, 696, 1303, 1312, 1320, \n",
    "1485, 1572, 3641], we remove these compounds from our ladder.\n",
    "\"\"\"\n",
    "idxs = [62, 63, 695, 696, 1303, 1312, 1320, 1485, 1572, 3641]\n",
    "df_notfit = df_ms_gf_2nd_5p.loc[idxs].sort_values('Mass')\n",
    "df_ms_gf_2nd_5p = df_ms_gf_2nd_5p.drop(df_notfit.index)\n",
    "plotly_zones(df_ms_gf_2nd_5p, df_notfit, \n",
    "             title='5´ Ladder of the 2nd Isoform (MassSum & GapFill Result with Manual Filter)', \n",
    "             names=['5´ data', 'To Be Removed'])\n",
    "df_notfit"
   ]
  },
  {
   "cell_type": "code",
   "execution_count": 34,
   "id": "independent-passion",
   "metadata": {},
   "outputs": [],
   "source": [
    "# GapFill for 1st isoform, 3´ ladder\n",
    "fullmass_dot = df_3p[(df_3p.Mass>isoforms[idx]-0.1) & (df_3p.Mass<isoforms[idx]+0.1)]\n",
    "df_ms_3p = df_masssum_3ps_refined[idx]\n",
    "df_gap_2nd_3p = gap_fill(df_3p, df_ms_3p, fullmass_dot, major=True, orientation=3)"
   ]
  },
  {
   "cell_type": "code",
   "execution_count": 35,
   "id": "dirty-documentation",
   "metadata": {},
   "outputs": [],
   "source": [
    "plotly_zones(df_masssum_2nd_3p, df_gap_2nd_3p)\n",
    "df_ms_gf_2nd_3p = pd.concat([df_masssum_2nd_3p, df_gap_2nd_3p])"
   ]
  },
  {
   "cell_type": "code",
   "execution_count": 36,
   "id": "multiple-willow",
   "metadata": {},
   "outputs": [],
   "source": [
    "\"\"\"Manually examine each mass in the ladder, looks good.\n",
    "\"\"\"\n",
    "idxs = []\n",
    "df_notfit = df_ms_gf_2nd_3p.loc[idxs].sort_values('Mass')\n",
    "df_ms_gf_2nd_3p = df_ms_gf_2nd_3p.drop(df_notfit.index)\n",
    "plotly_zones(df_ms_gf_2nd_3p, df_notfit, \n",
    "             title='3´ Ladder of the 2nd Isoform (MassSum & GapFill Result with Manual Filter)', \n",
    "             names=['3´ data', 'To Be Removed'])\n",
    "df_notfit"
   ]
  },
  {
   "cell_type": "code",
   "execution_count": 213,
   "id": "informed-pierce",
   "metadata": {},
   "outputs": [],
   "source": [
    "# Put the refined results into two separated new list. \n",
    "# Currently we only refined 5´/3´-ladders for the first two isoforms.\n",
    "# So keep the rest as it is.\n",
    "df_ms_gf_5ps_refined = [df_ms_gf_1st_5p, \n",
    "                          df_ms_gf_2nd_5p, \n",
    "                          df_masssum_3rd_5p, \n",
    "                          df_masssum_4th_5p]\n",
    "\n",
    "df_ms_gf_3ps_refined = [df_ms_gf_1st_3p, \n",
    "                          df_ms_gf_2nd_3p, \n",
    "                          df_masssum_3rd_3p, \n",
    "                          df_masssum_4th_3p]"
   ]
  },
  {
   "cell_type": "code",
   "execution_count": null,
   "id": "wireless-computer",
   "metadata": {},
   "outputs": [],
   "source": []
  },
  {
   "cell_type": "markdown",
   "id": "wrong-indiana",
   "metadata": {},
   "source": [
    "# Ladder Complementation\n",
    "<br>\n",
    "After manual selection of the resulting ladders for various isoforms, they are put together to perform ladder complementation.\n"
   ]
  },
  {
   "cell_type": "code",
   "execution_count": 214,
   "id": "killing-bread",
   "metadata": {},
   "outputs": [],
   "source": [
    "\"\"\"Currently we only provides ladders of two isoforms, we can still do ladder complementation.\n",
    "\n",
    "If you have recurringly run the previous cells for more isoforms, you will definitely \n",
    "end up with much more ladders. Just construct a Ladder instance for each ladder, and \n",
    "then put all of them into the variable ladders, you will collect more information to \n",
    "generate better results.\n",
    "\"\"\"\n",
    "ladders = list()\n",
    "for idx in range(2):\n",
    "    ladder_5p = Ladder(df_ms_gf_5ps_refined[idx], isoforms[idx], 5)\n",
    "    ladder_3p = Ladder(df_ms_gf_3ps_refined[idx], isoforms[idx], 3)\n",
    "    ladders.extend([ladder_5p, ladder_3p])\n",
    "    \n",
    "df_ladder_comp = ladder_complementation(ladders)\n",
    "\n",
    "# Under the folder <outputs>, please find the result file, ladder_comp_res.xlsx.\n",
    "df_ladder_comp.to_excel('../outputs/ladder_comp_res.xlsx')"
   ]
  },
  {
   "cell_type": "code",
   "execution_count": null,
   "id": "standing-thesis",
   "metadata": {},
   "outputs": [],
   "source": []
  }
 ],
 "metadata": {
  "kernelspec": {
   "display_name": "Python 3",
   "language": "python",
   "name": "python3"
  },
  "language_info": {
   "codemirror_mode": {
    "name": "ipython",
    "version": 3
   },
   "file_extension": ".py",
   "mimetype": "text/x-python",
   "name": "python",
   "nbconvert_exporter": "python",
   "pygments_lexer": "ipython3",
   "version": "3.7.3"
  }
 },
 "nbformat": 4,
 "nbformat_minor": 5
}
