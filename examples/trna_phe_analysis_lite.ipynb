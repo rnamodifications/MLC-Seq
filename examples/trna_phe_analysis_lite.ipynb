{
 "cells": [
  {
   "cell_type": "code",
   "execution_count": 46,
   "id": "satisfied-teaching",
   "metadata": {},
   "outputs": [],
   "source": [
    "import pandas as pd\n",
    "import matplotlib\n",
    "import plotly.express as px\n",
    "import matplotlib.pyplot as plt"
   ]
  },
  {
   "cell_type": "code",
   "execution_count": 78,
   "id": "chinese-aaron",
   "metadata": {},
   "outputs": [],
   "source": [
    "%run ../modules/utils.ipynb\n",
    "%run ../modules/ladder_separation.ipynb\n",
    "%run ../modules/homology_search.ipynb\n",
    "%run ../modules/mass_sum.ipynb\n",
    "%run ../modules/gap_fill.ipynb\n",
    "%run ../modules/ladder_complementation.ipynb"
   ]
  },
  {
   "cell_type": "code",
   "execution_count": 10,
   "id": "structured-hollywood",
   "metadata": {},
   "outputs": [],
   "source": [
    "ctrl_sample = '../samples/Phe/tRNA_Phe_Control.xlsx'\n",
    "\n",
    "df_ctrl = load_data(ctrl_sample)\n",
    "plotly_zone(df_ctrl, title='Control Sample Data')"
   ]
  },
  {
   "cell_type": "code",
   "execution_count": 9,
   "id": "breeding-template",
   "metadata": {},
   "outputs": [],
   "source": [
    "bcr = homology_search(df_ctrl)\n",
    "plotly_basecalling(*bcr, y='Vol', title='Homology Search Result')"
   ]
  },
  {
   "cell_type": "code",
   "execution_count": 8,
   "id": "animated-parks",
   "metadata": {},
   "outputs": [],
   "source": [
    "df = load_data('../samples/Phe/tRNA_Phe_Deg_1.xlsx')\n",
    "plotly_zone(df, title='Degraded Sample')"
   ]
  },
  {
   "cell_type": "code",
   "execution_count": 7,
   "id": "sunset-diary",
   "metadata": {},
   "outputs": [],
   "source": [
    "\"\"\"iloc[:10] takes the first 10 compounds from the list sorted in the descending order of \n",
    "intensity. Replace 10 with other numbers if more or less compounds are desired.\n",
    "\"\"\"\n",
    "df_deg_top = df[df.Mass>23000].sort_values('Vol', ascending=False).iloc[:10]\n",
    "homo_deg = homology_search(df_deg_top)\n",
    "plotly_basecalling(*homo_deg, y='Vol', title=\"Homology Search Result of Degraded Sample\")\n",
    "df_homo_deg = homo_deg[0]"
   ]
  },
  {
   "cell_type": "code",
   "execution_count": 6,
   "id": "global-growing",
   "metadata": {},
   "outputs": [],
   "source": [
    "# To easily demonstrate the concept, here we just load the data we selected in advance.\n",
    "df_5p = load_data('./data/phe5p.xlsx')\n",
    "df_3p = load_data('./data/phe3p.xlsx')\n",
    "\n",
    "df_common = match_dfs(df_5p, df_3p)\n",
    "plotly_multi_zones([df_5p, df_3p, df_common], \n",
    "                   names=[\"5´ Data\", \"3´ Data\", \"Overlapped Data\"], \n",
    "                   title=\"Manually Divided Data\")"
   ]
  },
  {
   "cell_type": "code",
   "execution_count": 5,
   "id": "unlikely-appraisal",
   "metadata": {},
   "outputs": [],
   "source": [
    "sampling_num = 1000\n",
    "\n",
    "df_5p_top = df_5p.sort_values('Vol', ascending=False).iloc[:sampling_num]\n",
    "df_3p_top = df_3p.sort_values('Vol', ascending=False).iloc[:sampling_num]\n",
    "\n",
    "plotly_zones(df_5p_top, df_3p_top, \n",
    "             names=[\"5´ Filtered Data\", \"3´ Filtered Data\"],\n",
    "             title='Filtered Data')"
   ]
  },
  {
   "cell_type": "code",
   "execution_count": 4,
   "id": "empty-preference",
   "metadata": {},
   "outputs": [],
   "source": [
    "isoform_idx = 0\n",
    "\n",
    "full_mass = df_homo_deg.sort_values('Vol', ascending=False).iloc[isoform_idx].Mass\n",
    "df_masssum_3p, df_masssum_5p = mass_sum(df_3p_top, df_5p_top, full_mass=full_mass)\n",
    "plotly_zones(df_masssum_5p, df_masssum_3p,\n",
    "             names=[\"5´ Data\", \"3´ Data\"],\n",
    "             title='MassSum Result')"
   ]
  },
  {
   "cell_type": "code",
   "execution_count": 3,
   "id": "sustained-ozone",
   "metadata": {},
   "outputs": [],
   "source": [
    "%%capture\n",
    "\n",
    "# GapFill for 5´ ladder\n",
    "fullmass_dot = df_5p[(df_5p.Mass>full_mass-0.1) & (df_5p.Mass<full_mass+0.1)]\n",
    "df_gap_5p = gap_fill(df_5p, df_masssum_5p, fullmass_dot, major=True, orientation=5)\n",
    "\n",
    "# GapFill for 3´ ladder\n",
    "fullmass_dot = df_3p[(df_3p.Mass>full_mass-0.1) & (df_3p.Mass<full_mass+0.1)]\n",
    "df_gap_3p = gap_fill(df_3p, df_masssum_3p, fullmass_dot, major=True, orientation=3)"
   ]
  },
  {
   "cell_type": "code",
   "execution_count": 2,
   "id": "multiple-aside",
   "metadata": {},
   "outputs": [],
   "source": [
    "# Now we already have two ladders, just combine their skeleton dots with gap dots.\n",
    "df_ladder_5p = pd.concat([df_masssum_5p, df_gap_5p]).reset_index()\n",
    "df_ladder_3p = pd.concat([df_masssum_3p, df_gap_3p]).reset_index()\n",
    "plotly_zones(df_ladder_5p, df_ladder_3p,\n",
    "             names=[\"5´ Data\", \"3´ Data\"],\n",
    "             title='GapFill Result')"
   ]
  },
  {
   "cell_type": "code",
   "execution_count": 1,
   "id": "unauthorized-bruce",
   "metadata": {},
   "outputs": [],
   "source": [
    "ladder1 = Ladder(df_ladder_5p, full_mass, 5)\n",
    "ladder2 = Ladder(df_ladder_3p, full_mass, 3)\n",
    "ladders = [ladder1, ladder2]\n",
    "df_ladder_comp = ladder_complementation(ladders)\n",
    "print('Ladder Complementation Result')\n",
    "df_ladder_comp.to_excel('../outputs/ladder_comp_res_lite.xlsx')\n",
    "df_ladder_comp.iloc[10:70]"
   ]
  },
  {
   "cell_type": "code",
   "execution_count": null,
   "id": "mysterious-consistency",
   "metadata": {},
   "outputs": [],
   "source": []
  }
 ],
 "metadata": {
  "kernelspec": {
   "display_name": "Python 3",
   "language": "python",
   "name": "python3"
  },
  "language_info": {
   "codemirror_mode": {
    "name": "ipython",
    "version": 3
   },
   "file_extension": ".py",
   "mimetype": "text/x-python",
   "name": "python",
   "nbconvert_exporter": "python",
   "pygments_lexer": "ipython3",
   "version": "3.7.3"
  }
 },
 "nbformat": 4,
 "nbformat_minor": 5
}
