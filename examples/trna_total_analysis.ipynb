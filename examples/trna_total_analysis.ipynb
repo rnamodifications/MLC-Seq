{
 "cells": [
  {
   "cell_type": "code",
   "execution_count": null,
   "id": "grateful-kentucky",
   "metadata": {},
   "outputs": [],
   "source": [
    "import os\n",
    "import pandas as pd"
   ]
  },
  {
   "cell_type": "code",
   "execution_count": null,
   "id": "painful-roads",
   "metadata": {},
   "outputs": [],
   "source": [
    "%run ../modules/utils.ipynb\n",
    "%run ../modules/homology_search.ipynb\n",
    "%run ../modules/ladder_complementation.ipynb\n",
    "%run ../modules/mass_sum.ipynb"
   ]
  },
  {
   "cell_type": "code",
   "execution_count": null,
   "id": "tropical-report",
   "metadata": {},
   "outputs": [],
   "source": []
  },
  {
   "cell_type": "markdown",
   "id": "threatened-tuition",
   "metadata": {},
   "source": [
    "# Control"
   ]
  },
  {
   "cell_type": "code",
   "execution_count": null,
   "id": "missing-somerset",
   "metadata": {},
   "outputs": [],
   "source": [
    "path = '../samples/total_tRNA/Control/'\n",
    "dir_list = os.listdir(path)\n",
    "control_files = [path+f for f in dir_list]\n",
    "control_files.sort()\n",
    "\n",
    "dfs_ctrl = [load_data(f) for f in control_files]\n",
    "dfs_ctrl = [dftmp[dftmp.Mass>23000] for dftmp in dfs_ctrl]\n",
    "max_rt = max([dftmp.RT.max() for dftmp in dfs_ctrl])\n",
    "max_vol = max([dftmp.Vol.max() for dftmp in dfs_ctrl])\n",
    "dfs_updated = list()\n",
    "for dftmp in dfs_ctrl:\n",
    "    dftmp.RT *= max_rt/dftmp.RT.max()\n",
    "    dftmp.Vol *= max_vol/dftmp.Vol.max()\n",
    "    dfs_updated.append(dftmp)\n",
    "df_ctrl = pd.concat(dfs_updated)\n",
    "df_ctrl = drop_dups(df_ctrl)\n",
    "df_ctrl.shape"
   ]
  },
  {
   "cell_type": "code",
   "execution_count": null,
   "id": "sufficient-brisbane",
   "metadata": {},
   "outputs": [],
   "source": [
    "plotly_zone(df_ctrl, y='Vol')"
   ]
  },
  {
   "cell_type": "code",
   "execution_count": null,
   "id": "split-sound",
   "metadata": {},
   "outputs": [],
   "source": [
    "f = '../statics/total_tRNA_seqs_base.xlsx'\n",
    "df_seqbase = pd.read_excel(f)\n",
    "df_seqbase = df_seqbase.rename(columns={'Monoisotopic Mass (full length)': 'Mass1', \n",
    "                                        'Monoisotopic Mass (CC-tailed)': 'Mass2', \n",
    "                                        'Monoisotopic Mass (C-tailed)': 'Mass3',\n",
    "                                        'AminoAcid & CCA': 'Mass4',\n",
    "                                        'AminoAcid & CC': 'Mass5'\n",
    "                                       })\n",
    "df_seqbase.head()"
   ]
  },
  {
   "cell_type": "code",
   "execution_count": null,
   "id": "finite-perth",
   "metadata": {},
   "outputs": [],
   "source": [
    "# dftmp.iloc[:, 3:9]\n",
    "dfms = list()\n",
    "dftmps = list()\n",
    "df_sample = df_ctrl\n",
    "for i in [3, 4, 5, 7]: # \n",
    "    dftmp = df_seqbase.copy()\n",
    "    dftmp['Mass'] = dftmp.iloc[:, i]\n",
    "    dfm = match_dfs(dftmp, df_sample, ppm=50, inplace=True)\n",
    "    dftmps.append(dftmp)\n",
    "    dfm = dfm.sort_values('Mass')\n",
    "    dfms.append(dfm.iloc[:, :-1])\n",
    "\n",
    "df_dfms = pd.concat(dfms)\n",
    "dfms_unique = drop_dups(df_dfms)\n",
    "df_sample.shape, df_dfms.shape, dfms_unique.shape"
   ]
  },
  {
   "cell_type": "code",
   "execution_count": null,
   "id": "injured-stage",
   "metadata": {},
   "outputs": [],
   "source": [
    "plotly_zones(df_ctrl, dfms_unique, y='Vol')\n",
    "df_ctrl.shape, dfms_unique.shape"
   ]
  },
  {
   "cell_type": "code",
   "execution_count": null,
   "id": "overhead-figure",
   "metadata": {},
   "outputs": [],
   "source": [
    "figsize=(5, 3)\n",
    "fig = plt.figure(figsize=figsize)\n",
    "\n",
    "dfa, dfb = df_ctrl.copy(), dfms_unique.copy()\n",
    "vol = dfa.Vol.sum()\n",
    "# dfa['Relative Intensity'] = dfa.Vol/vol\n",
    "# dfb['Relative Intensity'] = dfb.Vol/vol\n",
    "plot_zones(dfa, dfb, y='Vol', ylabel='Intensity', figsize=figsize)\n",
    "# plot_zones(dfa, dfb, y='Relative Intensity', ylabel='Relative Intensity', figsize=figsize)\n",
    "\n",
    "fig.tight_layout()\n",
    "svg_fpath = '../outputs/matched_ctrl.svg'\n",
    "plt.savefig(svg_fpath, dpi=300, transparent=True)"
   ]
  },
  {
   "cell_type": "code",
   "execution_count": null,
   "id": "spoken-helicopter",
   "metadata": {},
   "outputs": [],
   "source": [
    "f = '../statics/total_tRNA_seqs_base.xlsx'\n",
    "df_seqbase_cca = pd.read_excel(f, sheet_name='CCA')\n",
    "df_seqbase_cc = pd.read_excel(f, sheet_name='CC')\n",
    "df_seqbase_c = pd.read_excel(f, sheet_name='C')"
   ]
  },
  {
   "cell_type": "code",
   "execution_count": null,
   "id": "comparative-durham",
   "metadata": {},
   "outputs": [],
   "source": [
    "for s in [2*M, M, Na, K, -2*M, -1*M, 0]:\n",
    "    dfm1 = match_dfs_v2(df_seqbase_c, df_ctrl, shift=s, inplace=True, ppm=30, copy_cols=['tRNA'])\n",
    "    idx = df_ctrl[df_ctrl.Match].index\n",
    "    df_ctrl.loc[idx, 'Isoform'] = 'C'\n",
    "    dfm2 = match_dfs_v2(df_seqbase_cca, df_ctrl, shift=s, inplace=True, ppm=30, copy_cols=['tRNA'])\n",
    "    idx = df_ctrl[df_ctrl.Match].index\n",
    "    df_ctrl.loc[idx, 'Isoform'] = 'CCA'\n",
    "    dfm3 = match_dfs_v2(df_seqbase_cc, df_ctrl, shift=s, inplace=True, ppm=30, copy_cols=['tRNA'])\n",
    "    idx = df_ctrl[df_ctrl.Match].index\n",
    "    df_ctrl.loc[idx, 'Isoform'] = 'CC'\n",
    "    dfm1.shape, dfm2.shape, dfm3.shape"
   ]
  },
  {
   "cell_type": "code",
   "execution_count": null,
   "id": "intensive-opportunity",
   "metadata": {},
   "outputs": [],
   "source": [
    "dft = df_ctrl.copy()\n",
    "dft = dft.sort_values('tRNA')\n",
    "dft = dft.reset_index(drop=True)\n",
    "dft.index += 1\n",
    "dft[['Mass', 'RT', 'Vol', 'MatchedMass', 'tRNA', 'PPM', 'Isoform', 'Isoform', 'Sft']].to_excel('../outputs/matched_ctrl.xlsx')"
   ]
  },
  {
   "cell_type": "code",
   "execution_count": null,
   "id": "eligible-access",
   "metadata": {},
   "outputs": [],
   "source": [
    "df_matched = df_ctrl[df_ctrl.MatchedMass > 0].copy()\n",
    "df_matched.head()"
   ]
  },
  {
   "cell_type": "code",
   "execution_count": null,
   "id": "technical-colonial",
   "metadata": {},
   "outputs": [],
   "source": [
    "\n",
    "dft = dfms_unique.copy()\n",
    "bcr = homology_search(df_matched, names=['Me'], ppm=10)\n",
    "\n",
    "figsize=(5, 3)\n",
    "fig = plt.figure(figsize=figsize)\n",
    "\n",
    "plot_basecalling(bcr[0], bcr[1], y='Vol', annotate=False, ylabel='Intensity', plt=plt, figsize=figsize)\n",
    "plotly_basecalling(*bcr, y='Vol')\n",
    "fig.tight_layout()\n",
    "svg_fpath = '../outputs/homology.svg'\n",
    "plt.savefig(svg_fpath, dpi=300, transparent=True)"
   ]
  },
  {
   "cell_type": "code",
   "execution_count": null,
   "id": "express-quest",
   "metadata": {},
   "outputs": [],
   "source": []
  },
  {
   "cell_type": "code",
   "execution_count": null,
   "id": "ideal-aspect",
   "metadata": {},
   "outputs": [],
   "source": []
  },
  {
   "cell_type": "markdown",
   "id": "welsh-constitution",
   "metadata": {},
   "source": [
    "# Acid-Deg"
   ]
  },
  {
   "cell_type": "code",
   "execution_count": null,
   "id": "operational-boards",
   "metadata": {},
   "outputs": [],
   "source": [
    "path = '../samples/total_tRNA/AcidDeg/'\n",
    "dir_list = os.listdir(path)\n",
    "ad_files = [path+f for f in dir_list]\n",
    "ad_files.sort()\n",
    "\n",
    "dfs = [load_data(f) for f in ad_files]\n",
    "df_ad = pd.concat(dfs)\n",
    "df_ad.shape"
   ]
  },
  {
   "cell_type": "code",
   "execution_count": null,
   "id": "enormous-douglas",
   "metadata": {},
   "outputs": [],
   "source": [
    "def load_tRNA_library(f_lib='../statics/total_tRNA_mass_ladders.xlsx'):\n",
    "    df_lib = pd.read_excel(f_lib, skiprows=1)\n",
    "    return df_lib\n",
    "\n",
    "\n",
    "def match_library_extended_ext(df, df_lib, idx, ori=5, ppm=30, col_shifts={}):\n",
    "    \"\"\"col_shifts should be like {<idx>: [(K, 'K'), (Na, 'Na'), {H2O, 'Dehydration'}]}, \n",
    "    while <idx> is the index of cols ['5prim_df', '3prim_df', '3prim_CCtailed_df', '3prim_Ctailed_df']\n",
    "    \"\"\"\n",
    "    dfms = list()\n",
    "    row = df_lib.loc[idx]\n",
    "    cols = ['5prim_df', '3prim_df', '3prim_CCtailed_df', '3prim_Ctailed_df']\n",
    "    for col_idx, col in enumerate(cols):\n",
    "        df_ladder = pd.read_csv(StringIO(row[col]), sep=\"\\t\")\n",
    "        shifts = [0]\n",
    "        ext_shifts = col_shifts.get(col_idx)\n",
    "        if ext_shifts:\n",
    "            s = [i[0] for i in ext_shifts]\n",
    "            shifts.extend(s)\n",
    "        dfm_grp = [match_dfs(df_ladder, df, ppm=ppm, shift=shift) for shift in shifts]\n",
    "        ldl_names = ['Regular']\n",
    "        if ext_shifts:\n",
    "            ldl_names.extend([i[1] for i in ext_shifts])\n",
    "        dfm_grp = list(zip(dfm_grp, ldl_names))\n",
    "        dfms.append(dfm_grp)\n",
    "    return dfms"
   ]
  },
  {
   "cell_type": "code",
   "execution_count": null,
   "id": "antique-preservation",
   "metadata": {},
   "outputs": [],
   "source": [
    "from io import StringIO\n",
    "\n",
    "rates = list()\n",
    "df_lib = load_tRNA_library()\n",
    "for idx, row in df_lib.iterrows():\n",
    "    row = df_lib.loc[idx]\n",
    "    data_row = [c for c in row[1:93] if c != '-']\n",
    "    \n",
    "    tRNA_type, *data_row = data_row\n",
    "    rows = [data_row]\n",
    "    \n",
    "    dfm_grps = match_library_extended_ext(df_ad, df_lib, idx) \n",
    "    combined_sites = list()\n",
    "    for grp_id, dfm_grp in enumerate(dfm_grps): # [5´, 3´, 3´-CC, 3´-C]\n",
    "        for dfm_idx, (dfm, dfm_label) in enumerate(dfm_grp):\n",
    "            dfm_tmp = dfm.copy()\n",
    "            dfm_tmp = drop_dups(dfm_tmp)\n",
    "            if grp_id == 1:\n",
    "                dfm_tmp.Mass = row['MassCCA'] - dfm_tmp.Mass\n",
    "            if grp_id == 2:\n",
    "                dfm_tmp.Mass = row['MassCC'] - dfm_tmp.Mass\n",
    "            if grp_id == 3:\n",
    "                dfm_tmp.Mass = row['MassC'] - dfm_tmp.Mass\n",
    "            sites = dfm_tmp.Mass//320\n",
    "            combined_sites.extend(sites)\n",
    "            break\n",
    "    \n",
    "    depth_sites = combined_sites.copy()\n",
    "    combined_sites = set(combined_sites)\n",
    "    combined_sites = [i for i in combined_sites if i > 0]\n",
    "    combined_rate = len(combined_sites)/len(data_row)\n",
    "    \n",
    "    #  Ladder Coverage\n",
    "    ladder_hits = [len(dfm_grp[0][0]) for dfm_grp in dfm_grps]\n",
    "    ladder_hits_rate = [h/len(data_row) for h in ladder_hits]\n",
    "    pie_rates = [[1-r, r] for r in ladder_hits_rate]\n",
    "    print(idx+1, tRNA_type, f\"{combined_rate:.2f}\", combined_sites)"
   ]
  },
  {
   "cell_type": "code",
   "execution_count": null,
   "id": "peripheral-elder",
   "metadata": {},
   "outputs": [],
   "source": []
  }
 ],
 "metadata": {
  "kernelspec": {
   "display_name": "Python 3",
   "language": "python",
   "name": "python3"
  },
  "language_info": {
   "codemirror_mode": {
    "name": "ipython",
    "version": 3
   },
   "file_extension": ".py",
   "mimetype": "text/x-python",
   "name": "python",
   "nbconvert_exporter": "python",
   "pygments_lexer": "ipython3",
   "version": "3.7.9"
  }
 },
 "nbformat": 4,
 "nbformat_minor": 5
}
