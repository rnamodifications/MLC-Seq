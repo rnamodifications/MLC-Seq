{
 "cells": [
  {
   "cell_type": "code",
   "execution_count": 1,
   "id": "prompt-statistics",
   "metadata": {},
   "outputs": [],
   "source": [
    "import pandas as pd"
   ]
  },
  {
   "cell_type": "code",
   "execution_count": null,
   "id": "bronze-richardson",
   "metadata": {},
   "outputs": [],
   "source": [
    "def homology_search(df):\n",
    "    \"\"\"Doing Homology Search for dataset df.\n",
    "    \n",
    "    :param df: pandas DataFrame, contains 'Mass' column.\n",
    "    :return: tuple (basecallings_dataframe, basecallings)\n",
    "    \"\"\"\n",
    "    df_intact = df[df.Mass>23000]\n",
    "    return base_calling_random(df_intact, homology=True)"
   ]
  },
  {
   "cell_type": "code",
   "execution_count": null,
   "id": "duplicate-penguin",
   "metadata": {},
   "outputs": [],
   "source": [
    "def base_calling_random(df, homology=False, acid_labile=False, methyl=False):\n",
    "    \"\"\"Doing basecalling on entire dataframe.\n",
    "    \n",
    "    :param df: pandas DataFrame, contains at least column 'Mass'.\n",
    "    :param homology: bool, whether doing homology search.\n",
    "    :param acid_labile: bool, whether finding Acid Labile.\n",
    "    :param methyl: bool, whether finding Methylations only.\n",
    "    :return: tuple (basecallings_dataframe, basecallings), the first item is a DataFrame, \n",
    "    contains all the compounds that have at least one basecalling with other compounds; \n",
    "    the second item is a list of tuple [(Mass, Mass, Base)].\n",
    "    \"\"\"\n",
    "    df = df.sort_index()\n",
    "    mass_x = np.array(df.Mass)\n",
    "    mass_y = np.array(df.Mass)\n",
    "    if acid_labile:\n",
    "        mass_x = np.array(df[df.isAD == False].Mass)\n",
    "        mass_y = np.array(df[df.isAD == True].Mass)\n",
    "    \n",
    "    base_dict = {'C': 305.0413, 'A': 329.0525, 'G': 345.0474, 'U': 306.0253, \n",
    "                 'mG': 359.0631, 'D': 308.041, 'mC': 319.0569, \n",
    "                 'mU': 320.041, 'mA': 343.0682, 'm22C': 333.0625,\n",
    "                'mcm5U': 378.0464}\n",
    "    if homology:\n",
    "        base_dict = {'C': 305.0413, 'A': 329.0525, 'Ox': 16.0, 'Methyl': 14.0106, '2Methyl': 28.0212}\n",
    "    if acid_labile:\n",
    "        base_dict = {'Y': 358.1599}\n",
    "    if methyl:\n",
    "        base_dict = {'Me': 14.0106}\n",
    "        \n",
    "    pairs = list()\n",
    "    idxs = list()\n",
    "    PPM = 10\n",
    "    for k in base_dict.keys():\n",
    "        base_mass = base_dict.get(k)\n",
    "        ppm_matrix = np.abs((mass_x[:, np.newaxis] - mass_y - base_mass) * 1E6 / (mass_y + base_mass))\n",
    "        ppm_df = pd.DataFrame(ppm_matrix)\n",
    "        crosstalk = ppm_df[ppm_df < PPM]\n",
    "        idx_pairs = list(crosstalk[crosstalk.notnull()].stack().index)\n",
    "        if idx_pairs:\n",
    "            idx_pairs = [(*pair, k) for pair in idx_pairs]\n",
    "            pairs.extend(idx_pairs)\n",
    "        df3_idxs = [pair[0] for pair in idx_pairs]\n",
    "        df5_idxs = [pair[1] for pair in idx_pairs]\n",
    "        df3_idxs = list(set(df3_idxs))\n",
    "        df5_idxs = list(set(df5_idxs))\n",
    "        if df3_idxs:\n",
    "            idxs.extend(df3_idxs)\n",
    "        if df5_idxs:\n",
    "            idxs.extend(df5_idxs)\n",
    "    \n",
    "    mass_pairs = [(df.Mass.iloc[p[0]], df.Mass.iloc[p[1]], p[2]) for p in pairs]\n",
    "    if acid_labile:\n",
    "        mass_pairs = [(df[df.isAD == False].Mass.iloc[p[0]], df[df.isAD == True].Mass.iloc[p[1]], p[2]) for p in pairs]\n",
    "    mass_pairs = [mp for mp in mass_pairs if mp[0] != mp[1]]\n",
    "    idxs = list(set(idxs))\n",
    "    \n",
    "    df_base_calling = df.iloc[idxs]\n",
    "    if acid_labile:\n",
    "        masses = [pair[0] for pair in mass_pairs]\n",
    "        masses_1 = [pair[1] for pair in mass_pairs]\n",
    "        masses.extend(masses_1)\n",
    "        masses = list(set(masses))\n",
    "        df_base_calling = df[df.Mass.isin(masses)]\n",
    "        \n",
    "    return df_base_calling, mass_pairs"
   ]
  }
 ],
 "metadata": {
  "kernelspec": {
   "display_name": "Python 3",
   "language": "python",
   "name": "python3"
  },
  "language_info": {
   "codemirror_mode": {
    "name": "ipython",
    "version": 3
   },
   "file_extension": ".py",
   "mimetype": "text/x-python",
   "name": "python",
   "nbconvert_exporter": "python",
   "pygments_lexer": "ipython3",
   "version": "3.7.3"
  }
 },
 "nbformat": 4,
 "nbformat_minor": 5
}
