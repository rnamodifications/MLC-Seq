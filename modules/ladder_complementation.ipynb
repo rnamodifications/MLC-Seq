{
 "cells": [
  {
   "cell_type": "code",
   "execution_count": 8,
   "id": "southern-delicious",
   "metadata": {},
   "outputs": [],
   "source": [
    "import pandas as pd\n",
    "from collections import namedtuple"
   ]
  },
  {
   "cell_type": "code",
   "execution_count": 9,
   "id": "realistic-jurisdiction",
   "metadata": {},
   "outputs": [],
   "source": [
    "Ladder = namedtuple('Ladder', \"dataframe fullmass ori\")"
   ]
  },
  {
   "cell_type": "code",
   "execution_count": 10,
   "id": "broad-defensive",
   "metadata": {},
   "outputs": [],
   "source": [
    "def ladder_complementation(ladders):\n",
    "    \"\"\"Implementation of the Ladder Complementation algorithm.\n",
    "    \n",
    "    :param ladders: a list of tupple, [(df, fullmass, ladder_orientation)]\n",
    "    :return: a pandas DataFrame contains ladder complementation results.\n",
    "    \n",
    "    Now we have several ladders as the input, this method try to align them horizontally \n",
    "    and generate sequences based on those ladders/fragments. After we put all the fragments of \n",
    "    every ladder into the seats, we're able to analyze those isoforms' sequences as a whole.\n",
    "    \n",
    "    Please note that the result may requires further manual filter.\n",
    "    \"\"\"\n",
    "    df_res = pd.DataFrame()\n",
    "    for idx, ladder in enumerate(ladders):\n",
    "#         df = ladder[0]\n",
    "#         fullmass = ladder[1]\n",
    "#         ori = ladder[2]\n",
    "        df = ladder.dataframe\n",
    "        fullmass = ladder.fullmass\n",
    "        ori = ladder.ori\n",
    "        bcr = base_calling_random(df)\n",
    "        df_res = process_single_ladder(*bcr, fullmass, orientation=ori, df_res=df_res, idx=idx)\n",
    "\n",
    "    return df_res"
   ]
  },
  {
   "cell_type": "code",
   "execution_count": 7,
   "id": "everyday-fabric",
   "metadata": {},
   "outputs": [],
   "source": [
    "def process_single_ladder(df, mass_pairs, full_mass, \n",
    "                          orientation=5, df_res=pd.DataFrame(), idx=-1):\n",
    "    \"\"\"Put each fragment into their own position.\n",
    "    \n",
    "    :param df, mass_pairs: ladder information, effectively, they are the results of \n",
    "    base_calling_ramdom. please refer to modules/homology_search.ipynb.\n",
    "    :param full_mass: the intact mass value of the ladder.\n",
    "    :param orientation: ladder orientation, 3 or 5.\n",
    "    :param df_res: a pandas DataFrame to store the recurring result for multiple ladders.\n",
    "    :param idx: the index of this ladder among multiple ladders. Default -1, indicates only \n",
    "    one ladder need to be processed.\n",
    "    \n",
    "    For each ladder, we disperse the fragments into different seats, based on their value. \n",
    "    Each seat represents a position on a full-length tRNA. For example, if the tRNA is 76 nt \n",
    "    long, there will be 76 seats for this type of tRNA.\n",
    "    \"\"\"\n",
    "    seats = int(full_mass // 320)\n",
    "    col_base = 'Base' if idx < 0 else f'Base{idx}'\n",
    "    col_mass = 'Mass' if idx < 0 else f'Mass{idx}'\n",
    "    \n",
    "    if df_res.empty:\n",
    "        df_res = pd.DataFrame()\n",
    "        df_res['position'] = range(1, seats+1+1)\n",
    "        df_res.set_index('position', inplace=True)\n",
    "    df_res[col_base] = ''\n",
    "    df_res[col_mass] = ''\n",
    "    \n",
    "    df = df.fillna(0)\n",
    "    for idx, row in df.iterrows():\n",
    "        if row.Mass <= 0:\n",
    "            continue\n",
    "        pos = int(row.Mass // 320)\n",
    "        if orientation == 3:\n",
    "            pos = seats + 1 - pos\n",
    "#             pos -= 1\n",
    "        mass = df_res.loc[pos, col_mass] \n",
    "        if not mass:\n",
    "            mass = row.Mass\n",
    "        else:\n",
    "            mass = '{}, {}'.format(mass, row.Mass)\n",
    "        df_res.loc[pos, col_mass] = mass\n",
    "        \n",
    "    for t in mass_pairs:\n",
    "        df_pair = df[df.Mass.isin(t)]\n",
    "        if df_pair.empty:\n",
    "            continue\n",
    "        \n",
    "        idx = df_pair['Mass'].idxmax()\n",
    "        if orientation == 3:\n",
    "            idx = df_pair['Mass'].idxmin()\n",
    "        pos = int(df_pair.loc[idx].Mass // 320)\n",
    "        if orientation == 3:\n",
    "            pos = seats + 1 - pos\n",
    "            pos -= 1\n",
    "        base = df_res.loc[pos, col_base] \n",
    "        if not base:\n",
    "            base = t[2]\n",
    "        else:\n",
    "            base = '{}, {}'.format(base, t[2])\n",
    "        df_res.loc[pos, col_base] = base\n",
    "    \n",
    "    return df_res"
   ]
  },
  {
   "cell_type": "code",
   "execution_count": null,
   "id": "correct-sender",
   "metadata": {},
   "outputs": [],
   "source": []
  }
 ],
 "metadata": {
  "kernelspec": {
   "display_name": "Python 3",
   "language": "python",
   "name": "python3"
  },
  "language_info": {
   "codemirror_mode": {
    "name": "ipython",
    "version": 3
   },
   "file_extension": ".py",
   "mimetype": "text/x-python",
   "name": "python",
   "nbconvert_exporter": "python",
   "pygments_lexer": "ipython3",
   "version": "3.7.3"
  }
 },
 "nbformat": 4,
 "nbformat_minor": 5
}
