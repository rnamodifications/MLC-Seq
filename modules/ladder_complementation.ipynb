{
 "cells": [
  {
   "cell_type": "code",
   "execution_count": 1,
   "id": "southern-delicious",
   "metadata": {},
   "outputs": [],
   "source": [
    "import pandas as pd"
   ]
  },
  {
   "cell_type": "code",
   "execution_count": 2,
   "id": "broad-defensive",
   "metadata": {},
   "outputs": [],
   "source": [
    "def ladder_complementation(ladders):\n",
    "    \"\"\"Implementation of the Ladder Complementation algorithm.\n",
    "    \n",
    "    :param ladders: a list of tupple, [(df, fullmass, ladder_orientation)]\n",
    "    :return: a pandas DataFrame contains ladder complementation results.\n",
    "    \n",
    "    Please note that the result may requires further manual filter.\n",
    "    \"\"\"\n",
    "    df_res = pd.DataFrame()\n",
    "    for idx, ladder in enumerate(ladders):\n",
    "        df = ladder[0]\n",
    "        fullmass = ladder[1]\n",
    "        print(f'processing fullmass {fullmass}')\n",
    "        bcr = base_calling_random(df)\n",
    "        df_res = process_single_ladder(*bcr, fullmass, df_res=df_res, idx=idx)\n",
    "\n",
    "    return df_res"
   ]
  },
  {
   "cell_type": "code",
   "execution_count": 3,
   "id": "everyday-fabric",
   "metadata": {},
   "outputs": [],
   "source": [
    "def process_single_ladder(df, mass_pairs, full_mass, \n",
    "                          orientation=5, df_res=pd.DataFrame(), idx=-1):\n",
    "    seats = int(full_mass // 320)\n",
    "    col_base = 'Base' if idx < 0 else f'Base{idx}'\n",
    "    col_mass = 'Mass' if idx < 0 else f'Mass{idx}'\n",
    "    if df_res.empty:\n",
    "        df_res = pd.DataFrame()\n",
    "        df_res['position'] = range(1, seats+1)\n",
    "        df_res.set_index('position', inplace=True)\n",
    "    df_res[col_base] = ''\n",
    "    df_res[col_mass] = ''\n",
    "    \n",
    "    df = df.fillna(0)\n",
    "    for idx, row in df.iterrows():\n",
    "        if row.Mass <= 0:\n",
    "            continue\n",
    "        pos = int(row.Mass // 320)\n",
    "        if orientation == 3:\n",
    "            pos = seats + 1 - pos\n",
    "#             pos -= 1\n",
    "        mass = df_res.loc[pos, col_mass] \n",
    "        if not mass:\n",
    "            mass = row.Mass\n",
    "        else:\n",
    "            mass = '{}, {}'.format(mass, row.Mass)\n",
    "        df_res.loc[pos, col_mass] = mass\n",
    "        \n",
    "    for t in mass_pairs:\n",
    "        df_pair = df[df.Mass.isin(t)]\n",
    "        if df_pair.empty:\n",
    "            continue\n",
    "        \n",
    "        idx = df_pair['Mass'].idxmax()\n",
    "        if orientation == 3:\n",
    "            idx = df_pair['Mass'].idxmin()\n",
    "        pos = int(df_pair.loc[idx].Mass // 320)\n",
    "        if orientation == 3:\n",
    "            pos = seats + 1 - pos\n",
    "            pos -= 1\n",
    "        base = df_res.loc[pos, col_base] \n",
    "        if not base:\n",
    "            base = t[2]\n",
    "        else:\n",
    "            base = '{}, {}'.format(base, t[2])\n",
    "        df_res.loc[pos, col_base] = base\n",
    "    \n",
    "    return df_res"
   ]
  },
  {
   "cell_type": "code",
   "execution_count": null,
   "id": "correct-sender",
   "metadata": {},
   "outputs": [],
   "source": []
  }
 ],
 "metadata": {
  "kernelspec": {
   "display_name": "Python 3",
   "language": "python",
   "name": "python3"
  },
  "language_info": {
   "codemirror_mode": {
    "name": "ipython",
    "version": 3
   },
   "file_extension": ".py",
   "mimetype": "text/x-python",
   "name": "python",
   "nbconvert_exporter": "python",
   "pygments_lexer": "ipython3",
   "version": "3.7.3"
  }
 },
 "nbformat": 4,
 "nbformat_minor": 5
}
