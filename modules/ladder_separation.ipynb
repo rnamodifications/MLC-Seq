{
 "cells": [
  {
   "cell_type": "code",
   "execution_count": 1,
   "id": "middle-madagascar",
   "metadata": {},
   "outputs": [],
   "source": [
    "import pandas as pd\n",
    "import plotly.graph_objects as go"
   ]
  },
  {
   "cell_type": "code",
   "execution_count": null,
   "id": "supposed-latin",
   "metadata": {},
   "outputs": [],
   "source": [
    "def zone_selection(df, on_selection=None, on_click=None):\n",
    "    \"\"\"Manually select area.\n",
    "    \n",
    "    :param df: pandas DataFrame, original datasets.\n",
    "    :param on_selection: a callback function, receives the dots user selected on screen.\n",
    "    the signature should be on_selection(trace, points, selector).\n",
    "    :param on_click: a callback function, receives the dots user clicked on screen.\n",
    "    the signature should be on_click(trace, points, selector).\n",
    "    :return: plotly.graph_objects.FigureWidget.\n",
    "    \"\"\"\n",
    "    df_draw = df\n",
    "    x = df_draw.Mass\n",
    "    y = df_draw.RT\n",
    "    fig = go.Scatter(x=x, y=y, mode='markers')\n",
    "    f = go.FigureWidget(fig)\n",
    "    scatter = f.data[0]\n",
    "    colors = ['#6371f2'] * df.shape[0]\n",
    "    scatter.marker.color = colors\n",
    "    \n",
    "    def onclick_callback(trace, points, selector):\n",
    "        nonlocal scatter\n",
    "        c = list(scatter.marker.color)\n",
    "        for i in points.point_inds:\n",
    "            c[i] = '#87a14a'\n",
    "            with f.batch_update():\n",
    "                scatter.marker.color = c\n",
    "        \n",
    "        on_click(trace, points, selector)\n",
    "        \n",
    "    if on_selection:\n",
    "        scatter.on_selection(on_selection)\n",
    "    if on_click:\n",
    "        scatter.on_click(onclick_callback)\n",
    "    return f"
   ]
  }
 ],
 "metadata": {
  "kernelspec": {
   "display_name": "Python 3",
   "language": "python",
   "name": "python3"
  },
  "language_info": {
   "codemirror_mode": {
    "name": "ipython",
    "version": 3
   },
   "file_extension": ".py",
   "mimetype": "text/x-python",
   "name": "python",
   "nbconvert_exporter": "python",
   "pygments_lexer": "ipython3",
   "version": "3.7.3"
  }
 },
 "nbformat": 4,
 "nbformat_minor": 5
}
