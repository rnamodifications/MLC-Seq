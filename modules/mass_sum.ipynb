{
 "cells": [
  {
   "cell_type": "code",
   "execution_count": 1,
   "id": "crazy-morrison",
   "metadata": {},
   "outputs": [],
   "source": [
    "import pandas as pd\n",
    "import numpy as np"
   ]
  },
  {
   "cell_type": "code",
   "execution_count": null,
   "id": "handled-catalyst",
   "metadata": {},
   "outputs": [],
   "source": [
    "MASS_P = 79.96633\n",
    "MASS_H2O = 18.0106"
   ]
  },
  {
   "cell_type": "code",
   "execution_count": null,
   "id": "numerous-formula",
   "metadata": {},
   "outputs": [],
   "source": [
    "def mass_sum(df3p, df5p, full_mass, error=0.1, has_tag=False, tag=826.3184):\n",
    "    \"\"\"Implementation of the MassSum algorithm.\n",
    "    \n",
    "    :param df3p: pandas DataFrame, the first dataset.\n",
    "    :param df5p: pandas DataFrame, the second dataset.\n",
    "    :param full_mass: float, the intact mass. \n",
    "    :param error: normal margin of error, default 0.1.\n",
    "    :param has_tag, tag: if the biological sample was processed using a TAG.\n",
    "    :return: a tuple of two datasets separated from original datasets. \n",
    "    One represents the compounds from 3' ladder, the other are the ones from 5' ladder.\n",
    "    \n",
    "    df3p and df5p can be the same DataFrame, if so, the two results datasets would be\n",
    "    identical to each other.\n",
    "    \"\"\"\n",
    "    df3p_mass_np = np.array(df3p['Mass'])\n",
    "    df5p_mass_np = np.array(df5p['Mass'])\n",
    "    mass_sum_np = df3p_mass_np[:, np.newaxis] + df5p_mass_np\n",
    "    mass_sum_1 = np.round(mass_sum_np, 1)\n",
    "    mass_sum_df = pd.DataFrame(mass_sum_1)\n",
    "\n",
    "    if has_tag:\n",
    "        sum_value = round(full_mass + tag + MASS_P - MASS_H2O, 1)\n",
    "        print('full_mass {} sum_value {}'.format(full_mass, sum_value))\n",
    "    else:\n",
    "        sum_value = round(full_mass + MASS_H2O, 1)\n",
    "        print('full_mass {} sum_value {}'.format(full_mass, sum_value))\n",
    "\n",
    "    tmp = mass_sum_df[(mass_sum_df >= sum_value-error) & (mass_sum_df <= sum_value+error)]\n",
    "    final_idx_pairs = list(tmp[tmp.notnull()].stack().index)\n",
    "    df3_idxs = [pair[0] for pair in final_idx_pairs]\n",
    "    df5_idxs = [pair[1] for pair in final_idx_pairs]\n",
    "    df3_idxs = list(set(df3_idxs))\n",
    "    df5_idxs = list(set(df5_idxs))\n",
    "\n",
    "    df3p_selected = df3p.iloc[df3_idxs]\n",
    "    df5p_selected = df5p.iloc[df5_idxs]\n",
    "        \n",
    "    return df3p_selected, df5p_selected"
   ]
  }
 ],
 "metadata": {
  "kernelspec": {
   "display_name": "Python 3",
   "language": "python",
   "name": "python3"
  },
  "language_info": {
   "codemirror_mode": {
    "name": "ipython",
    "version": 3
   },
   "file_extension": ".py",
   "mimetype": "text/x-python",
   "name": "python",
   "nbconvert_exporter": "python",
   "pygments_lexer": "ipython3",
   "version": "3.7.3"
  }
 },
 "nbformat": 4,
 "nbformat_minor": 5
}
